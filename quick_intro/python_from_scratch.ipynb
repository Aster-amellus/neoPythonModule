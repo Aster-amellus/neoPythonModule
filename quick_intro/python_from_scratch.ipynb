{
 "cells": [
  {
   "cell_type": "markdown",
   "metadata": {},
   "source": [
    "\n",
    "# 基本语法\n",
    "## 注释\n",
    "注释是代码中不会被执行的部分，用于解释代码的功能。单行注释用 # 开头，多行注释用三个引号 ''' 或 \"\"\" 包围。"
   ]
  },
  {
   "cell_type": "code",
   "execution_count": null,
   "metadata": {
    "vscode": {
     "languageId": "plaintext"
    }
   },
   "outputs": [],
   "source": [
    "# 这是一个单行注释\n",
    "\n",
    "\"\"\"\n",
    "这是一个多行注释\n",
    "可以有多行内容\n",
    "\"\"\"\n"
   ]
  },
  {
   "cell_type": "markdown",
   "metadata": {},
   "source": [
    "## 变量与数据类型\n",
    "变量是用于存储数据的容器。在Python中，不需要显式声明变量类型，直接赋值即可。"
   ]
  },
  {
   "cell_type": "code",
   "execution_count": null,
   "metadata": {
    "vscode": {
     "languageId": "plaintext"
    }
   },
   "outputs": [],
   "source": [
    "# 整数类型\n",
    "age = 25\n",
    "\n",
    "# 浮点数类型\n",
    "height = 1.75\n",
    "\n",
    "# 字符串类型\n",
    "name = \"Alice\"\n",
    "\n",
    "# 布尔类型\n",
    "is_student = True\n",
    "\n",
    "# 打印变量值\n",
    "print(age, height, name, is_student)\n"
   ]
  },
  {
   "cell_type": "markdown",
   "metadata": {
    "vscode": {
     "languageId": "plaintext"
    }
   },
   "source": [
    "## 运算符\n",
    "运算符用于执行各种操作，如算术运算、比较运算和逻辑运算。"
   ]
  },
  {
   "cell_type": "code",
   "execution_count": null,
   "metadata": {
    "vscode": {
     "languageId": "plaintext"
    }
   },
   "outputs": [],
   "source": [
    "# 算术运算符\n",
    "a = 10\n",
    "b = 3\n",
    "print(a + b)  # 加法\n",
    "print(a - b)  # 减法\n",
    "print(a * b)  # 乘法\n",
    "print(a / b)  # 除法\n",
    "print(a % b)  # 取模\n",
    "print(a ** b)  # 幂运算\n",
    "\n",
    "# 比较运算符\n",
    "print(a == b)  # 等于\n",
    "print(a != b)  # 不等于\n",
    "print(a > b)  # 大于\n",
    "print(a < b)  # 小于\n",
    "print(a >= b)  # 大于等于\n",
    "print(a <= b)  # 小于等于\n",
    "\n",
    "# 逻辑运算符\n",
    "x = True\n",
    "y = False\n",
    "print(x and y)  # 逻辑与\n",
    "print(x or y)  # 逻辑或\n",
    "print(not x)  # 逻辑非\n"
   ]
  },
  {
   "cell_type": "markdown",
   "metadata": {},
   "source": [
    "## 控制结构\n",
    "条件语句\n",
    "条件语句用于根据条件的真伪执行不同的代码块。"
   ]
  },
  {
   "cell_type": "code",
   "execution_count": null,
   "metadata": {
    "vscode": {
     "languageId": "plaintext"
    }
   },
   "outputs": [],
   "source": [
    "# 条件语句示例\n",
    "age = 18\n",
    "\n",
    "if age >= 18:\n",
    "    print(\"你是成年人\")\n",
    "else:\n",
    "    print(\"你是未成年人\")\n"
   ]
  },
  {
   "cell_type": "markdown",
   "metadata": {
    "vscode": {
     "languageId": "plaintext"
    }
   },
   "source": [
    "## 循环语句\n",
    "循环语句用于重复执行代码块。"
   ]
  },
  {
   "cell_type": "code",
   "execution_count": null,
   "metadata": {
    "vscode": {
     "languageId": "plaintext"
    }
   },
   "outputs": [],
   "source": [
    "# while 循环\n",
    "count = 0\n",
    "while count < 5:\n",
    "    print(count)\n",
    "    count += 1\n",
    "\n",
    "# for 循环\n",
    "for i in range(5):\n",
    "    print(i)\n"
   ]
  },
  {
   "cell_type": "markdown",
   "metadata": {
    "vscode": {
     "languageId": "plaintext"
    }
   },
   "source": [
    "## 函数\n",
    "函数是可重用的代码块，用于执行特定任务。使用 def 关键字定义函数。"
   ]
  },
  {
   "cell_type": "code",
   "execution_count": null,
   "metadata": {
    "vscode": {
     "languageId": "plaintext"
    }
   },
   "outputs": [],
   "source": [
    "# 函数定义\n",
    "def greet(name):\n",
    "    return f\"Hello, {name}!\"\n",
    "\n",
    "# 函数调用\n",
    "message = greet(\"Alice\")\n",
    "print(message)\n"
   ]
  },
  {
   "cell_type": "markdown",
   "metadata": {
    "vscode": {
     "languageId": "plaintext"
    }
   },
   "source": [
    "## 数据结构\n",
    "列表\n",
    "列表是有序的可变集合，使用方括号 [] 表示。"
   ]
  },
  {
   "cell_type": "code",
   "execution_count": null,
   "metadata": {
    "vscode": {
     "languageId": "plaintext"
    }
   },
   "outputs": [],
   "source": [
    "# 列表示例\n",
    "fruits = [\"apple\", \"banana\", \"cherry\"]\n",
    "print(fruits)\n",
    "\n",
    "# 添加元素\n",
    "fruits.append(\"orange\")\n",
    "print(fruits)\n",
    "\n",
    "# 访问元素\n",
    "print(fruits[1])\n",
    "\n",
    "# 删除元素\n",
    "fruits.remove(\"banana\")\n",
    "print(fruits)\n"
   ]
  },
  {
   "cell_type": "markdown",
   "metadata": {
    "vscode": {
     "languageId": "plaintext"
    }
   },
   "source": [
    "### 元组\n",
    "元组是有序的不可变集合，使用圆括号 () 表示。"
   ]
  },
  {
   "cell_type": "code",
   "execution_count": null,
   "metadata": {
    "vscode": {
     "languageId": "plaintext"
    }
   },
   "outputs": [],
   "source": [
    "# 元组示例\n",
    "colors = (\"red\", \"green\", \"blue\")\n",
    "print(colors)\n",
    "\n",
    "# 访问元素\n",
    "print(colors[1])\n"
   ]
  },
  {
   "cell_type": "markdown",
   "metadata": {
    "vscode": {
     "languageId": "plaintext"
    }
   },
   "source": [
    "### 字典\n",
    "字典是键值对的集合，使用花括号 {} 表示。"
   ]
  },
  {
   "cell_type": "code",
   "execution_count": null,
   "metadata": {
    "vscode": {
     "languageId": "plaintext"
    }
   },
   "outputs": [],
   "source": [
    "# 字典示例\n",
    "student = {\"name\": \"Alice\", \"age\": 25, \"grade\": \"A\"}\n",
    "print(student)\n",
    "\n",
    "# 访问值\n",
    "print(student[\"name\"])\n",
    "\n",
    "# 添加键值对\n",
    "student[\"major\"] = \"Computer Science\"\n",
    "print(student)\n",
    "\n",
    "# 删除键值对\n",
    "del student[\"age\"]\n",
    "print(student)\n"
   ]
  },
  {
   "cell_type": "markdown",
   "metadata": {
    "vscode": {
     "languageId": "plaintext"
    }
   },
   "source": [
    "### 集合\n",
    "集合是无序的不可重复的元素集合，使用大括号 {} 表示。"
   ]
  },
  {
   "cell_type": "code",
   "execution_count": null,
   "metadata": {
    "vscode": {
     "languageId": "plaintext"
    }
   },
   "outputs": [],
   "source": [
    "# 集合示例\n",
    "numbers = {1, 2, 3, 4, 4}\n",
    "print(numbers)\n",
    "\n",
    "# 添加元素\n",
    "numbers.add(5)\n",
    "print(numbers)\n",
    "\n",
    "# 删除元素\n",
    "numbers.remove(3)\n",
    "print(numbers)\n"
   ]
  },
  {
   "cell_type": "markdown",
   "metadata": {
    "vscode": {
     "languageId": "plaintext"
    }
   },
   "source": [
    "## 文件操作\n",
    "Python 提供了方便的文件读写操作。"
   ]
  },
  {
   "cell_type": "code",
   "execution_count": null,
   "metadata": {
    "vscode": {
     "languageId": "plaintext"
    }
   },
   "outputs": [],
   "source": [
    "# 写入文件\n",
    "with open(\"example.txt\", \"w\") as file:\n",
    "    file.write(\"Hello, World!\")\n",
    "\n",
    "# 读取文件\n",
    "with open(\"example.txt\", \"r\") as file:\n",
    "    content = file.read()\n",
    "    print(content)\n"
   ]
  },
  {
   "cell_type": "markdown",
   "metadata": {
    "vscode": {
     "languageId": "plaintext"
    }
   },
   "source": [
    "## 异常处理\n",
    "异常处理用于捕获和处理运行时错误，确保程序不会因为错误而中断。"
   ]
  },
  {
   "cell_type": "code",
   "execution_count": null,
   "metadata": {
    "vscode": {
     "languageId": "plaintext"
    }
   },
   "outputs": [],
   "source": [
    "try:\n",
    "    result = 10 / 0\n",
    "except ZeroDivisionError:\n",
    "    print(\"除数不能为零\")\n",
    "finally:\n",
    "    print(\"执行完毕\")\n"
   ]
  },
  {
   "cell_type": "markdown",
   "metadata": {
    "vscode": {
     "languageId": "plaintext"
    }
   },
   "source": [
    "## 类与对象\n",
    "Python 是一种面向对象的编程语言，支持类与对象的概念。\n",
    "面向对象我们会在后面章节中详细介绍"
   ]
  },
  {
   "cell_type": "code",
   "execution_count": null,
   "metadata": {
    "vscode": {
     "languageId": "plaintext"
    }
   },
   "outputs": [],
   "source": [
    "# 类定义\n",
    "class Dog:\n",
    "    def __init__(self, name, age):\n",
    "        self.name = name\n",
    "        self.age = age\n",
    "\n",
    "    def bark(self):\n",
    "        return f\"{self.name} is barking!\"\n",
    "\n",
    "# 创建对象\n",
    "my_dog = Dog(\"Buddy\", 3)\n",
    "print(my_dog.bark())\n"
   ]
  }
 ],
 "metadata": {
  "language_info": {
   "name": "python"
  }
 },
 "nbformat": 4,
 "nbformat_minor": 2
}
