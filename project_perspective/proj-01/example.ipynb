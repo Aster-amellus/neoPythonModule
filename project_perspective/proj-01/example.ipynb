{
 "cells": [
  {
   "cell_type": "markdown",
   "metadata": {},
   "source": [
    "导个包先\n",
    "\n",
    "`requests`请求库 和 `lxml`XML解析库\n",
    "\n",
    "> 实际上只需要`lxml`中的`etree`模块，所以使用`from ... import ...`"
   ]
  },
  {
   "cell_type": "code",
   "execution_count": 1,
   "metadata": {},
   "outputs": [],
   "source": [
    "import requests\n",
    "from lxml import etree"
   ]
  },
  {
   "cell_type": "markdown",
   "metadata": {},
   "source": [
    "通过查阅`requests`的[官方文档](https://requests.readthedocs.io/en/latest/)我们知道，可以像这样发送一个GET请求，来获取到网页的源代码\n",
    "\n",
    "这里手动配置了请求头，关于这部分知识，参见 [MDN Docs](https://developer.mozilla.org/zh-CN/docs/Web/HTTP/Headers)\n",
    "\n",
    "> 大部分网站都会配备反爬虫机制，它们会通过检查你的请求参数、统计你的请求频率等等方法来决定是否阻止你的请求（更严重地，封禁你的IP/账号等）"
   ]
  },
  {
   "cell_type": "code",
   "execution_count": 2,
   "metadata": {},
   "outputs": [],
   "source": [
    "url = \"https://www.bilibili.com/video/BV1iW421R71g\"\n",
    "headers = {\n",
    "    \"Accept\": \"text/html,application/xhtml+xml,application/xml;q=0.9,*/*;q=0.8\",\n",
    "    \"User-Agent\": \"Mozilla/5.0 (Windows NT 10.0; Win64; x64) AppleWebKit/537.36 (KHTML, like Gecko) Chrome/96.0.4664.110 Safari/537.36\",\n",
    "}\n",
    "resp = requests.get(url, headers=headers)\n",
    "source = resp.text"
   ]
  },
  {
   "cell_type": "markdown",
   "metadata": {},
   "source": [
    "现在`source`中存储着网页的源代码，我们使用`lxml`库对其进行解析\n",
    "\n",
    "手动指定`parser`是为了更宽容地处理HTML，否则遇到写法不太规范的网页会抛出错误"
   ]
  },
  {
   "cell_type": "code",
   "execution_count": 3,
   "metadata": {},
   "outputs": [],
   "source": [
    "html: etree.ElementBase = etree.fromstring(\n",
    "    source, parser=etree.HTMLParser()\n",
    ")"
   ]
  },
  {
   "cell_type": "markdown",
   "metadata": {},
   "source": [
    "还记得我们先前记下来的`XPath`吗，该派上用场了。使用它定位网页中包含封面URL的元素。\n",
    "\n",
    "> 不建议总是依赖浏览器给出的`XPath`，*有时*自己根据网页结构写出的`XPath`更具有通用性。（前提是没写错）"
   ]
  },
  {
   "cell_type": "code",
   "execution_count": 4,
   "metadata": {},
   "outputs": [
    {
     "name": "stdout",
     "output_type": "stream",
     "text": [
      "{'data-vue-meta': 'true', 'itemprop': 'image', 'content': '//i0.hdslb.com/bfs/archive/2ff337f507754e0d172298d3e9b815413b4a63b7.jpg@100w_100h_1c.png'}\n"
     ]
    }
   ],
   "source": [
    "xpath = '//meta[@itemprop=\"image\"]'\n",
    "element: etree.ElementBase = html.xpath(xpath)[0]\n",
    "print(element.attrib)\n",
    "cover_url = element.attrib.get(\"content\")"
   ]
  },
  {
   "cell_type": "markdown",
   "metadata": {},
   "source": [
    "对得到的封面URL做一些处理，加上协议名，移除调整参数之类的"
   ]
  },
  {
   "cell_type": "code",
   "execution_count": 5,
   "metadata": {},
   "outputs": [
    {
     "name": "stdout",
     "output_type": "stream",
     "text": [
      "https://i0.hdslb.com/bfs/archive/2ff337f507754e0d172298d3e9b815413b4a63b7.jpg\n"
     ]
    }
   ],
   "source": [
    "cover_url = \"https:\"+cover_url\n",
    "cover_url = cover_url.split(\"@\")[0]\n",
    "print(cover_url)"
   ]
  },
  {
   "cell_type": "markdown",
   "metadata": {},
   "source": [
    "成功得到了最终的URL。\n",
    "\n",
    "但是这还不够，我们需要将它封装为一个函数（方便复用），并做一些优化。\n",
    "\n",
    "让我们回到[先前的文档](./README.md#优化)中。"
   ]
  }
 ],
 "metadata": {
  "kernelspec": {
   "display_name": ".venv",
   "language": "python",
   "name": "python3"
  },
  "language_info": {
   "codemirror_mode": {
    "name": "ipython",
    "version": 3
   },
   "file_extension": ".py",
   "mimetype": "text/x-python",
   "name": "python",
   "nbconvert_exporter": "python",
   "pygments_lexer": "ipython3",
   "version": "3.11.9"
  }
 },
 "nbformat": 4,
 "nbformat_minor": 2
}
