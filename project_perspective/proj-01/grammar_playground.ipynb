{
 "cells": [
  {
   "cell_type": "markdown",
   "metadata": {},
   "source": [
    "# Grammar Playground\n",
    "\n",
    "芝士语法"
   ]
  },
  {
   "cell_type": "markdown",
   "metadata": {},
   "source": [
    "## 控制结构\n",
    "\n",
    "控制流是指程序执行过程中指令的执行顺序，而控制结构则是用于控制程序执行流程的语法构造。和其他主流编程语言一样，Python也有一套控制结构语法。"
   ]
  },
  {
   "cell_type": "markdown",
   "metadata": {},
   "source": [
    "### 顺序执行\n",
    "\n",
    "在没有遇到别的控制结构时，Python代码按顺序执行。"
   ]
  },
  {
   "cell_type": "code",
   "execution_count": 1,
   "metadata": {},
   "outputs": [
    {
     "name": "stdout",
     "output_type": "stream",
     "text": [
      "11\n",
      "45\n",
      "14\n"
     ]
    }
   ],
   "source": [
    "print(\"11\")\n",
    "print(\"45\")\n",
    "print(\"14\")"
   ]
  },
  {
   "cell_type": "markdown",
   "metadata": {},
   "source": [
    "### 条件分支\n",
    "\n",
    "使用 `if` - `elif` - `else` 让 Python 根据条件决定是否执行某些语句。\n",
    "\n",
    "在`3.10+`版本中，还可以使用 `match` - `case` 语法。相当于别的语言的 `switch` - `case`。"
   ]
  },
  {
   "cell_type": "code",
   "execution_count": null,
   "metadata": {},
   "outputs": [],
   "source": [
    "age = 18\n",
    "\n",
    "if age < 18:\n",
    "    print(\"小登\")\n",
    "elif age >= 18 and age < 40:\n",
    "    print(\"登dua郎\")\n",
    "elif age >= 40 and age < 65:\n",
    "    print(\"中登\")\n",
    "else:\n",
    "    print(\"老登\")"
   ]
  },
  {
   "cell_type": "markdown",
   "metadata": {},
   "source": [
    "### 循环\n",
    "\n",
    "使用 `for` 或 `while` 来循环执行某些语句。\n",
    "\n",
    "- `for` 语句通常用于遍历序列\n",
    "- `while` 语句用于根据条件重复执行\n",
    "\n",
    "使用 `continue` 和 `break` 来控制循环行为。常与条件分支等配合使用。\n",
    "\n",
    "- `continue` 语句用于立即结束本轮循环\n",
    "- `break` 语句用于立即跳出当前循环"
   ]
  },
  {
   "cell_type": "code",
   "execution_count": 5,
   "metadata": {},
   "outputs": [
    {
     "name": "stdout",
     "output_type": "stream",
     "text": [
      "d\n",
      "e\n",
      "e\n",
      "p\n"
     ]
    }
   ],
   "source": [
    "sentence = \"deep dark fantasy\"\n",
    "for char in sentence:\n",
    "    if char == \" \":\n",
    "        break\n",
    "    print(char)"
   ]
  },
  {
   "cell_type": "markdown",
   "metadata": {},
   "source": [
    "> 将上述代码中的 `break` 换成 `continue` 或者干脆去除会发生什么？"
   ]
  },
  {
   "cell_type": "markdown",
   "metadata": {},
   "source": [
    "### 异常处理\n",
    "\n",
    "具体参见 [补注](./notes.md)。\n",
    "\n",
    "使用 `try` - `except` - `else` - `finally` 捕获并处理异常。\n",
    "\n",
    "使用 `raise` 抛出异常。"
   ]
  },
  {
   "cell_type": "code",
   "execution_count": 7,
   "metadata": {},
   "outputs": [
    {
     "name": "stdout",
     "output_type": "stream",
     "text": [
      "Division by zero.\n",
      "Finally meet your end\n"
     ]
    }
   ],
   "source": [
    "deno = 0\n",
    "try:\n",
    "    deno = int(deno)\n",
    "    print(1 / deno)\n",
    "except ZeroDivisionError:\n",
    "    print(\"Division by zero.\")\n",
    "except Exception as e:\n",
    "    print(\"Other error:\", e)\n",
    "    raise\n",
    "else:\n",
    "    print(\"Everything went well.\")\n",
    "finally:\n",
    "    print(\"Finally meet your end\")"
   ]
  }
 ],
 "metadata": {
  "kernelspec": {
   "display_name": ".venv",
   "language": "python",
   "name": "python3"
  },
  "language_info": {
   "codemirror_mode": {
    "name": "ipython",
    "version": 3
   },
   "file_extension": ".py",
   "mimetype": "text/x-python",
   "name": "python",
   "nbconvert_exporter": "python",
   "pygments_lexer": "ipython3",
   "version": "3.11.9"
  }
 },
 "nbformat": 4,
 "nbformat_minor": 2
}
