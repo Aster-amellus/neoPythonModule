{
 "cells": [
  {
   "cell_type": "markdown",
   "metadata": {},
   "source": [
    "### 变量\n",
    "变量在Python中用来存储数据值。\n",
    "Python是动态类型语言，这意味着你不需要显式声明变量的类型，Python在运行时会自动推断。\n",
    "\n",
    "- 特别之处： Python的变量可以在程序运行时改变类型。"
   ]
  },
  {
   "cell_type": "code",
   "execution_count": 2,
   "metadata": {},
   "outputs": [
    {
     "name": "stdout",
     "output_type": "stream",
     "text": [
      "10\n",
      "hello\n"
     ]
    }
   ],
   "source": [
    "x = 10        # x是整数类型\n",
    "print(x)\n",
    "x = \"hello\"   # 现在x是字符串类型\n",
    "print(x)"
   ]
  },
  {
   "cell_type": "markdown",
   "metadata": {},
   "source": [
    "### 控制流\n",
    "控制流指的是决定代码执行顺序的语句，主要包括if语句、for循环和while循环。\n",
    "\n",
    "- 特别之处： Python使用缩进来定义代码块，这使得代码的可读性非常高。"
   ]
  },
  {
   "cell_type": "code",
   "execution_count": 22,
   "metadata": {},
   "outputs": [
    {
     "name": "stdout",
     "output_type": "stream",
     "text": [
      "i is less than 20\n",
      "1\n",
      "2\n",
      "-2\n",
      "-1\n"
     ]
    }
   ],
   "source": [
    "# if语句\n",
    "i=10\n",
    "if i < 20:\n",
    "    print(\"i is less than 20\")\n",
    "\n",
    "# for循环\n",
    "for i in range(1,3):\n",
    "    print(i)\n",
    "\n",
    "# while循环\n",
    "i = -2\n",
    "while i < 0:\n",
    "    print(i)\n",
    "    i += 1\n"
   ]
  },
  {
   "cell_type": "markdown",
   "metadata": {},
   "source": [
    "### 函数\n",
    "函数是组织好的，可重复使用的代码段，它用来执行单一或相关联的任务。\n",
    "也有像lambda表达式这样高度抽象的表示函数的方式。\n",
    "\n",
    "- 特别之处： Python支持高阶函数，即可以接受其他函数作为参数或者返回一个函数。"
   ]
  },
  {
   "cell_type": "code",
   "execution_count": 2,
   "metadata": {},
   "outputs": [
    {
     "name": "stdout",
     "output_type": "stream",
     "text": [
      "Hello HDU\n",
      "44\n"
     ]
    }
   ],
   "source": [
    "def greet(name):\n",
    "    return \"Hello \" + name\n",
    "\n",
    "print(greet(\"HDU\"))\n",
    "\n",
    "def make_incrementor(n):\n",
    "    return lambda x: x + n\n",
    "\n",
    "f = make_incrementor(2)\n",
    "print(f(42))\n"
   ]
  },
  {
   "cell_type": "markdown",
   "metadata": {},
   "source": [
    "### 字符串\n",
    "字符串用于在Python中处理文本数据。自带一些操作字符串的函数\n",
    "\n",
    "- 特别之处： Python的字符串是不可变的，意味着一旦创建，它们的内容不能更改。但是可以延长"
   ]
  },
  {
   "cell_type": "code",
   "execution_count": 20,
   "metadata": {},
   "outputs": [
    {
     "name": "stdout",
     "output_type": "stream",
     "text": [
      "H\n",
      "hello world\n",
      "Hello World,hello hdu\n"
     ]
    }
   ],
   "source": [
    "s = \"Hello World\"\n",
    "print(s[0])  # 访问第二个字符\n",
    "print(s.lower())  # 转换为小写\n",
    "s+=',hello hdu'\n",
    "print(s)"
   ]
  },
  {
   "cell_type": "markdown",
   "metadata": {},
   "source": [
    "#### 基本数据结构\n",
    "1. 列表：动态数组，可以存储任意类型的对象。\n",
    "2. 字典：存储键值对的数据结构，类似于哈希表。\n",
    "3. 元组：不可变的序列，可以看作是一个只读的列表。\n",
    "- 特别之处： 列表和字典的操作非常灵活且功能强大。"
   ]
  },
  {
   "cell_type": "code",
   "execution_count": 19,
   "metadata": {},
   "outputs": [
    {
     "name": "stdout",
     "output_type": "stream",
     "text": [
      "[1]\n",
      "[1, 'string']\n",
      "[1, 'string', [1], 'the second part']\n",
      "value\n",
      "{'key': 'value', 1: 'not hello', 2: 'hello', 3: 333, 'new': 'add'}\n",
      "2\n"
     ]
    }
   ],
   "source": [
    "#列表\n",
    "list=[1,'string',[1]]\n",
    "list2=[\"the second part\"]\n",
    "print(list[-1])\n",
    "print(list[0:2])\n",
    "list+=list2\n",
    "print(list)\n",
    "\n",
    "#字典\n",
    "dict={'key':'value',1:'hello',2:'hello',3:333}\n",
    "dict[1]='not hello'\n",
    "dict['new']='add'\n",
    "print(dict['key'])\n",
    "print(dict)\n",
    "\n",
    "#元组\n",
    "tuple=(\"hello\",2)\n",
    "print(tuple[1])"
   ]
  }
 ],
 "metadata": {
  "kernelspec": {
   "display_name": "Python 3",
   "language": "python",
   "name": "python3"
  },
  "language_info": {
   "codemirror_mode": {
    "name": "ipython",
    "version": 3
   },
   "file_extension": ".py",
   "mimetype": "text/x-python",
   "name": "python",
   "nbconvert_exporter": "python",
   "pygments_lexer": "ipython3",
   "version": "3.10.12"
  }
 },
 "nbformat": 4,
 "nbformat_minor": 2
}
