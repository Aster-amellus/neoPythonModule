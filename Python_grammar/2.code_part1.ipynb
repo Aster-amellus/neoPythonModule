{
 "cells": [
  {
   "cell_type": "markdown",
   "metadata": {},
   "source": [
    "### 书写\n",
    "1. Python有个有意思的点，对于语句，并不要求用“{}”围起来，各个代码模块间用缩进来规范。\n",
    "2. 语句过长时，为了代码美观，需要适当截断。Python单一语句换行依靠”\\“链接\n",
    "\n",
    "### PEP8编码规范（尽可能遵守、不强求）\n",
    "1. 缩进：使用 4 个空格来进行缩进，不要使用制表符（Tab）。\n",
    "2. 行宽：每行代码尽量不超过 79 个字符，以便于在小屏幕上阅读。\n",
    "3. 空格的使用：\n",
    "    1. 在逗号、冒号、分号后使用空格，但不要在括号前使用。\n",
    "    2. 赋值运算符和比较运算符两边都应添加空格，但在传递关键字参数或默认参数值时不加空格。\n",
    "4. 命名规则：\n",
    "    1. 函数、变量用小写字母编写，单词之间用下划线分隔（snake_case）。\n",
    "    2. 类名使用首字母大写的每个单词拼接（CapWords或称CamelCase）。\n",
    "    3. 模块级别的常量全用大写字母，单词之间用下划线分隔。\n",
    "5. 导入规则：\n",
    "    1. 导入应该总是放在文件顶部。\n",
    "    2. 应该分行导入，避免同一行导入多个库或模块。\n",
    "    3. 标准库模块、第三方模块以及自定义模块导入应该分组写在不同的部分，每组之间用空行隔开。\n"
   ]
  },
  {
   "cell_type": "markdown",
   "metadata": {},
   "source": [
    "### 变量\n",
    "变量在Python中用来存储数据值。\n",
    "Python有五个标准数据类型：\n",
    "1. 数字\n",
    "2. 字符串（环绕单引号、双引号）\n",
    "3. 列表（nb）\n",
    "4. 字典（键与值对应，如同查字典）\n",
    "5. 元组（可以看作不可修改的列表）\n",
    "\n",
    "Python是动态类型语言，这意味着你不需要显式声明变量的类型，Python在运行时会自动推断。\n",
    "\n",
    "- 特别之处： Python的变量可以在程序运行时改变类型。\n",
    "- 注意：直接变换变量的数据类型素质很差，还是建议像c语言一样调用函数来做到“显式类型转换”"
   ]
  },
  {
   "cell_type": "code",
   "execution_count": null,
   "metadata": {},
   "outputs": [],
   "source": [
    "x = 10        # x是整数类型，python中数字包含“int、long、float、complex“\n",
    "print(x)\n",
    "x = \"hello\"   # 现在x是字符串类型，字符串由数字、字母、下划线组成\n",
    "print(x)\n",
    "\n",
    "# 而在c语言中:\n",
    "# int a;\n",
    "# 声明变量a为整型，并且后续变量a不允许修改为其他类型"
   ]
  },
  {
   "cell_type": "markdown",
   "metadata": {},
   "source": [
    "### 类型标注（不强求）\n",
    "Python 是一种动态类型语言，意味着不需要在编写代码时声明变量的类型。\n",
    "\n",
    "然而，从Python3.5开始，引入了类型标注，使得开发者（可选地）指定变量、函数的参数以及返回值的类型。类型标注的主要目的是为了提高代码的可读性和可维护性，并且可以被静态类型检查工具（如 MyPy）使用，来在代码运行前发现潜在的错误。"
   ]
  },
  {
   "cell_type": "code",
   "execution_count": 13,
   "metadata": {},
   "outputs": [],
   "source": [
    "def greet(name: str) -> str:    #第一个“str”表示传入参数应该是str类型；\n",
    "    return f\"Hello, {name}\"     #第二个“->str\"表示函数返回值是str类型\n",
    "\n",
    "def add_numbers(a: int, b: int) -> int:\n",
    "    return a + b"
   ]
  },
  {
   "cell_type": "markdown",
   "metadata": {},
   "source": [
    "### 算数运算符\n",
    "除去加减乘除外，python有以下运算符：\n",
    "1. “/”：保留小数\n",
    "2. “%”：取除法运算的余数\n",
    "3. “a**b”：返回a的b次幂\n",
    "4. “//”：向下取整"
   ]
  },
  {
   "cell_type": "code",
   "execution_count": null,
   "metadata": {},
   "outputs": [],
   "source": [
    "print(5/2)\n",
    "print(5%2)\n",
    "print(5**2)\n",
    "print(5//2)"
   ]
  },
  {
   "cell_type": "markdown",
   "metadata": {},
   "source": [
    "### 赋值、比较、位运算符\n",
    "整体上与c语言一致，没有什么特别的；\n",
    "\n",
    "唯一有区别的可能是“>>\"运算符，在python中只有逻辑右移（高位补0），没有算数右移（高位补有效值）"
   ]
  },
  {
   "cell_type": "markdown",
   "metadata": {},
   "source": [
    "### 逻辑运算符\n",
    "1. and（&&）：两边同时为真时返回右边表达式的计算值，否则返回假\n",
    "2. or（||）：左边为真则返回左边的计算值，否则返回右边的计算值\n",
    "3. not（！）：真返回假，假返回真\n",
    "\n",
    "- 注意：真与“1”等价，假与“0“等价"
   ]
  },
  {
   "cell_type": "code",
   "execution_count": null,
   "metadata": {},
   "outputs": [],
   "source": [
    "print(5 and (2<3)) #同时为真，返回右边的True,注：2<3这个不等式为真\n",
    "\n",
    "print(0 or (1-2)) #左边为假，返回右边的计算值\n",
    "\n",
    "print(not 1) "
   ]
  },
  {
   "cell_type": "markdown",
   "metadata": {},
   "source": [
    "### 成员运算符\n",
    "1. a in b:如果a在b中，则为真，否则假\n",
    "2. a not in b：与上面相反"
   ]
  },
  {
   "cell_type": "code",
   "execution_count": null,
   "metadata": {},
   "outputs": [],
   "source": [
    "a=10\n",
    "b=[10,2,3]\n",
    "\n",
    "print(a in b)\n",
    "print(a not in b)"
   ]
  },
  {
   "cell_type": "markdown",
   "metadata": {},
   "source": [
    "### 控制流\n",
    "控制流指的是决定代码执行顺序的语句，主要包括:\n",
    "1. if条件语句:程序按照各个条件的先后顺序判断，满足条件后直接执行条件下的代码，不再判断\n",
    "2. for循环:在变量满足\"in\"后条件的情况下，不断执行主体，变量会自动迭代\n",
    "3. while循环:，在满足条件的情况下，不断执行主体\n",
    "4. break语句：终止本次循环，跳出整个循环\n",
    "5. continue语句：终止本次循环，直接进入下一次循环\n",
    "\n",
    "- 注意：循环是可以嵌套的"
   ]
  },
  {
   "cell_type": "code",
   "execution_count": null,
   "metadata": {},
   "outputs": [],
   "source": [
    "# if语句\n",
    "# elif与else都不是必须的\n",
    "print(\"对于if语句，输出如下：\")\n",
    "i=10\n",
    "if i < 20:\n",
    "    print(\"i is less than 20\")\n",
    "elif i < 30:\n",
    "    print(\"i is less than 30\")\n",
    "else:\n",
    "    print(\"i is bigger than 30\")\n",
    "\n",
    "\n",
    "# for循环\n",
    "print(\"\\n对于for语句，输出如下：\")\n",
    "for i in range(1,3):\n",
    "    print(i)\n",
    "\n",
    "# while循环\n",
    "print(\"\\n对于while语句，输出如下：\")\n",
    "i = -2\n",
    "while i < 0:\n",
    "    print(i)\n",
    "    i += 1\n",
    "\n",
    "# break语句\n",
    "print(\"\\n对于加入了break语句的循环，输出如下：\")\n",
    "flag=0\n",
    "i=0\n",
    "while i<5:\n",
    "    flag+=1\n",
    "    print(flag)\n",
    "    if flag>2:\n",
    "        print(\"break happens\")\n",
    "        break\n",
    "    i += 1\n",
    "    \n",
    "# continue语句\n",
    "print(\"\\n对于加入了continue语句的循环，输出如下：\")\n",
    "flag=0\n",
    "i=0\n",
    "while i<5:\n",
    "    flag+=1\n",
    "    if flag<3:\n",
    "        print(\"continue happens\")\n",
    "        continue\n",
    "    else:\n",
    "        print(flag)\n",
    "    i += 1"
   ]
  },
  {
   "cell_type": "markdown",
   "metadata": {},
   "source": [
    "#### 列表、字典、元组\n",
    "1. 列表：用“[]”标识，类似动态数组，可以存储任意类型的对象。支持增删改，“+”表示列表连接运算，“*”标识列表重复运算\n",
    "2. 字典：用“{}”标识，内部之间没有顺序。存储“键：值“对的数据结构，”键“被映射到“值”。支持增删改，可以通过“键”来访问“值”\n",
    "3. 元组：用“（）”标识，不可变的序列，可以看作是一个只读的列表。\n",
    "\n",
    "- 特别之处： 列表和字典的操作非常灵活且功能强大。此外，列表和字典有众多内置操作函数，在此不一一举例（太多了）"
   ]
  },
  {
   "cell_type": "code",
   "execution_count": null,
   "metadata": {},
   "outputs": [],
   "source": [
    "#列表\n",
    "print(\"对于列表，输出如下：\")\n",
    "\n",
    "#创建了一个包含多类型数据对象的列表\n",
    "list=[1,'string',[1]]\n",
    "\n",
    "#增加了一个元素\n",
    "list.append(\"addtion\")\n",
    "\n",
    "list2=[\"the second part\"]\n",
    "\n",
    "#当索引为负数时，从后往前访问\n",
    "print(list[-1])\n",
    "#区间写法，访问第一二个元素（左闭右开）\n",
    "print(list[0:2])\n",
    "\n",
    "#删除一个元素\n",
    "del list[-1]\n",
    "\n",
    "\n",
    "#合并两个列表\n",
    "list+=list2\n",
    "print(list)\n",
    "\n",
    "#字典\n",
    "print(\"\\n对于字典，输出如下：\")\n",
    "\n",
    "#创建了一个字典，有三对键：值\n",
    "dict={'key':'value',1:'hello',2:'hello',3:333}\n",
    "\n",
    "#修改了键“1”所对应的值\n",
    "dict[1]='not hello'\n",
    "\n",
    "#增加了新的键值对\n",
    "dict['new']='add'\n",
    "\n",
    "#打印键“key”的值\n",
    "print(dict['key'])\n",
    "#打印整个字典\n",
    "print(dict)\n",
    "\n",
    "\n",
    "#元组\n",
    "print(\"\\n对于元组，输出如下：\")\n",
    "\n",
    "#创建了元组\n",
    "tuple=(\"hello\",2)\n",
    "\n",
    "#打印第二个元素\n",
    "print(tuple[1])"
   ]
  },
  {
   "cell_type": "markdown",
   "metadata": {},
   "source": [
    "### 字符串\n",
    "字符串用于在Python中处理文本数据，例如单词、句子。\n",
    "\n",
    "- python自带一些操作字符串的函数\n",
    "\n",
    "- 特别之处： Python的字符串是不可变的，意味着一旦创建，它们的内容不能更改。但是可以延长。字符串在一定程度上可以当作列表使用"
   ]
  },
  {
   "cell_type": "code",
   "execution_count": null,
   "metadata": {},
   "outputs": [],
   "source": [
    "# 变量s被赋值为字符串\"Hello World\"\n",
    "s = \"Hello World\"\n",
    "\n",
    "#使用了类似列表的访问方式，打印第1个字符（大多数语言中第一位都从0开始）\n",
    "print(s[0])\n",
    "\n",
    "#展示了一个字符串操作函数\n",
    "print(s.lower())  # 转换为小写\n",
    "\n",
    "#延长了字符串s\n",
    "s+=',hello hdu'\n",
    "\n",
    "print(s)"
   ]
  },
  {
   "cell_type": "markdown",
   "metadata": {},
   "source": [
    "### 生成器\n",
    "\n",
    "- 是一种序列，每次调用时只按照顺序取出一个，直到取完为止\n",
    "\n",
    "- 最常见的有`for i in range(0,5):`中的\"range()\"\n",
    "- yield是与生成器紧密相关的关键字,在返回yield后面的值之后暂停，而不是return那样全部返回"
   ]
  },
  {
   "cell_type": "code",
   "execution_count": null,
   "metadata": {},
   "outputs": [],
   "source": [
    "def double_numbers(n):\n",
    "    num = 1\n",
    "    while n > 0:\n",
    "        yield num\n",
    "        num *= 2\n",
    "        n -= 1\n",
    "\n",
    "# 使用生成器，此时double_numbers(5)已经是一个生成器序列了，\n",
    "# 但我们只能通过循环来获得之中的值（因为生成器序列每次只取出一个值）\n",
    "# 每次for循环会调用一次yield,并生成一个num/number,\n",
    "# 而后生成器序列double_numbers(5)暂停，下一次for循环会接着yield之后的部分继续执行，直到再次遇到yield\n",
    "for number in double_numbers(5):\n",
    "    print(number)\n",
    "\n",
    "\n",
    "def sub_generator():\n",
    "    yield 1\n",
    "    yield 2\n",
    "    yield 3\n",
    "\n",
    "# yield from 可以让你在一个生成器函数中直接从另一个生成器或可迭代对象中产生值，而无需显式地使用类似for循环来逐一yield\n",
    "def main_generator():\n",
    "    yield from sub_generator()\n",
    "    yield 4\n",
    "    yield 5\n",
    "\n",
    "for value in main_generator():\n",
    "    print(value)\n"
   ]
  }
 ],
 "metadata": {
  "kernelspec": {
   "display_name": "Python 3",
   "language": "python",
   "name": "python3"
  },
  "language_info": {
   "codemirror_mode": {
    "name": "ipython",
    "version": 3
   },
   "file_extension": ".py",
   "mimetype": "text/x-python",
   "name": "python",
   "nbconvert_exporter": "python",
   "pygments_lexer": "ipython3",
   "version": "3.10.12"
  }
 },
 "nbformat": 4,
 "nbformat_minor": 2
}
