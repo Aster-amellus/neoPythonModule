{
 "cells": [
  {
   "cell_type": "markdown",
   "metadata": {},
   "source": [
    "### 变量\n",
    "变量在Python中用来存储数据值。\n",
    "Python是动态类型语言，这意味着你不需要显式声明变量的类型，Python在运行时会自动推断。\n",
    "\n",
    "- 特别之处： Python的变量可以在程序运行时改变类型。"
   ]
  },
  {
   "cell_type": "code",
   "execution_count": 2,
   "metadata": {},
   "outputs": [
    {
     "name": "stdout",
     "output_type": "stream",
     "text": [
      "10\n",
      "hello\n"
     ]
    }
   ],
   "source": [
    "x = 10        # x是整数类型\n",
    "print(x)\n",
    "x = \"hello\"   # 现在x是字符串类型\n",
    "print(x)\n",
    "\n",
    "# 而在c语言中:\n",
    "# int a;\n",
    "# 声明变量a为整型，并且后续变量a不允许修改为其他类型"
   ]
  },
  {
   "cell_type": "markdown",
   "metadata": {},
   "source": [
    "### 控制流\n",
    "控制流指的是决定代码执行顺序的语句，主要包括if条件语句、for循环和while循环。\n",
    "\n",
    "- 特别之处： Python使用缩进来定义代码块，这使得代码的可读性非常高。"
   ]
  },
  {
   "cell_type": "code",
   "execution_count": 2,
   "metadata": {},
   "outputs": [
    {
     "name": "stdout",
     "output_type": "stream",
     "text": [
      "对于if语句，输出如下：\n",
      "i is less than 20\n",
      "\n",
      "对于for语句，输出如下：\n",
      "1\n",
      "2\n",
      "\n",
      "对于while语句，输出如下：\n",
      "-2\n",
      "-1\n",
      "\n",
      "对于加入了break语句的循环，输出如下：\n",
      "1\n",
      "2\n",
      "3\n",
      "break happens\n"
     ]
    }
   ],
   "source": [
    "# if语句，程序按照各个条件的先后顺序判断，满足条件后直接执行条件下的代码，不再判断\n",
    "# elif与else都不是必须的\n",
    "print(\"对于if语句，输出如下：\")\n",
    "i=10\n",
    "if i < 20:\n",
    "    print(\"i is less than 20\")\n",
    "elif i < 30:\n",
    "    print(\"i is less than 30\")\n",
    "else:\n",
    "    print(\"i is bigger than 30\")\n",
    "\n",
    "\n",
    "# for循环，在变量i满足\"in\"后条件的情况下，不断执行主体，变量i会自动变化\n",
    "print(\"\\n对于for语句，输出如下：\")\n",
    "for i in range(1,3):\n",
    "    print(i)\n",
    "\n",
    "# while循环，在变量i满足条件的情况下，不断执行主体，i不会自动变化\n",
    "print(\"\\n对于while语句，输出如下：\")\n",
    "i = -2\n",
    "while i < 0:\n",
    "    print(i)\n",
    "    i += 1\n",
    "\n",
    "# break语句，可以在循环中插入break语句，用于跳出当前循环\n",
    "# 例如\n",
    "print(\"\\n对于加入了break语句的循环，输出如下：\")\n",
    "flag=0\n",
    "i=0\n",
    "while i<5:\n",
    "    flag+=1\n",
    "    print(flag)\n",
    "    if flag>2:\n",
    "        print(\"break happens\")\n",
    "        break\n",
    "    i += 1"
   ]
  },
  {
   "cell_type": "markdown",
   "metadata": {},
   "source": [
    "### 函数\n",
    "很多时候，我们需要一系列指令在程序多个地方使用，为了方便，通常将这一些指令“打包”做成函数。\n",
    "\n",
    "lambda表达式可以高度抽象的表示函数。某种程度上可以扩展函数的使用场景\n",
    "\n",
    "- 特别之处： Python支持高阶函数，即可以接受其他函数作为参数或者返回一个函数。"
   ]
  },
  {
   "cell_type": "code",
   "execution_count": 5,
   "metadata": {},
   "outputs": [
    {
     "name": "stdout",
     "output_type": "stream",
     "text": [
      "Hello HDU\n",
      "\n",
      "44\n"
     ]
    },
    {
     "data": {
      "text/plain": [
       "45"
      ]
     },
     "execution_count": 5,
     "metadata": {},
     "output_type": "execute_result"
    }
   ],
   "source": [
    "# 制作了函数\"greet()\",需要接收一个输入\"name\"\n",
    "def greet(name):\n",
    "    return \"Hello \" + name\n",
    "\n",
    "#函数中也可以再次调用函数，函数\"print_greet()\"不需要输入\n",
    "def print_greet():\n",
    "    print(greet(\"HDU\\n\"))\n",
    "\n",
    "#执行print_greet函数\n",
    "print_greet()\n",
    "\n",
    "\n",
    "# lambda函数举例，在以下例子中，函数\"make_incrementor()\"的输入为\"n\"\n",
    "def make_incrementor(n):\n",
    "    return lambda x: x + n\n",
    "# 下面这行将\"n\"绑定为2，但仍然缺少lambda语句中定义的未知数x\n",
    "f = make_incrementor(2)\n",
    "\n",
    "#该调用向f传递了2作为\"x\"\n",
    "print(f(42))\n",
    "\n",
    "#也可以不借助f,直接调用原函数,这时需要分步传入n与x\n",
    "make_incrementor(2)(43)"
   ]
  },
  {
   "cell_type": "markdown",
   "metadata": {},
   "source": [
    "#### 基本数据结构\n",
    "1. 列表：动态数组，可以存储任意类型的对象。支持增删改\n",
    "2. 字典：存储“键：值“对的数据结构，”键“被映射到“值”。支持增删改\n",
    "3. 元组：不可变的序列，可以看作是一个只读的列表。\n",
    "- 特别之处： 列表和字典的操作非常灵活且功能强大。"
   ]
  },
  {
   "cell_type": "code",
   "execution_count": 9,
   "metadata": {},
   "outputs": [
    {
     "name": "stdout",
     "output_type": "stream",
     "text": [
      "对于列表，输出如下：\n",
      "[1]\n",
      "[1, 'string']\n",
      "[1, 'string', [1], 'the second part']\n",
      "\n",
      "对于字典，输出如下：\n",
      "value\n",
      "{'key': 'value', 1: 'not hello', 2: 'hello', 3: 333, 'new': 'add'}\n",
      "\n",
      "对于元组，输出如下：\n",
      "2\n"
     ]
    }
   ],
   "source": [
    "#列表\n",
    "print(\"对于列表，输出如下：\")\n",
    "\n",
    "#创建了一个包含多类型数据对象的列表\n",
    "list=[1,'string',[1]]\n",
    "\n",
    "list2=[\"the second part\"]\n",
    "\n",
    "#当访问序号为负数时，从后往前访问\n",
    "print(list[-1])\n",
    "#区间写法，访问第一二个元素（左闭右开）\n",
    "print(list[0:2])\n",
    "\n",
    "#合并两个列表\n",
    "list+=list2\n",
    "print(list)\n",
    "\n",
    "#字典\n",
    "print(\"\\n对于字典，输出如下：\")\n",
    "\n",
    "#创建了一个字典，有三对键：值\n",
    "dict={'key':'value',1:'hello',2:'hello',3:333}\n",
    "\n",
    "#修改了键“1”所对应的值\n",
    "dict[1]='not hello'\n",
    "\n",
    "#增加了新的键值对\n",
    "dict['new']='add'\n",
    "\n",
    "#打印键“key”的值\n",
    "print(dict['key'])\n",
    "#打印整个字典\n",
    "print(dict)\n",
    "\n",
    "\n",
    "#元组\n",
    "print(\"\\n对于元组，输出如下：\")\n",
    "\n",
    "#创建了元组\n",
    "tuple=(\"hello\",2)\n",
    "\n",
    "#打印第二个元素\n",
    "print(tuple[1])"
   ]
  },
  {
   "cell_type": "markdown",
   "metadata": {},
   "source": [
    "### 字符串\n",
    "字符串用于在Python中处理文本数据，例如单词、句子。\n",
    "\n",
    "- python自带一些操作字符串的函数\n",
    "\n",
    "- 特别之处： Python的字符串是不可变的，意味着一旦创建，它们的内容不能更改。但是可以延长。字符串在一定程度上可以当作列表使用"
   ]
  },
  {
   "cell_type": "code",
   "execution_count": 6,
   "metadata": {},
   "outputs": [
    {
     "name": "stdout",
     "output_type": "stream",
     "text": [
      "H\n",
      "hello world\n",
      "Hello World,hello hdu\n"
     ]
    }
   ],
   "source": [
    "# 变量s被赋值为字符串\"Hello World\"\n",
    "s = \"Hello World\"\n",
    "\n",
    "#使用了类似列表的访问方式，打印第1个字符（大多数语言中第一位都从0开始）\n",
    "print(s[0])\n",
    "\n",
    "#展示了一个字符串操作函数\n",
    "print(s.lower())  # 转换为小写\n",
    "\n",
    "#延长了字符串s\n",
    "s+=',hello hdu'\n",
    "\n",
    "print(s)"
   ]
  }
 ],
 "metadata": {
  "kernelspec": {
   "display_name": "Python 3",
   "language": "python",
   "name": "python3"
  },
  "language_info": {
   "codemirror_mode": {
    "name": "ipython",
    "version": 3
   },
   "file_extension": ".py",
   "mimetype": "text/x-python",
   "name": "python",
   "nbconvert_exporter": "python",
   "pygments_lexer": "ipython3",
   "version": "3.10.12"
  }
 },
 "nbformat": 4,
 "nbformat_minor": 2
}
