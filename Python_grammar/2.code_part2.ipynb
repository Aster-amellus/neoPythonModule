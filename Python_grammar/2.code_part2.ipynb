{
 "cells": [
  {
   "cell_type": "markdown",
   "metadata": {},
   "source": [
    "### 标准库\n",
    "Python 的标准库提供了大量预构建的模块和功能，支持从文件操作到网络通信等多种任务。\n",
    "\n",
    "- 特别之处：Python 的标准库非常全面，几乎涵盖所有常见的编程任务，并且其标准库的接口设计非常直观。\n"
   ]
  },
  {
   "cell_type": "code",
   "execution_count": 1,
   "metadata": {},
   "outputs": [
    {
     "name": "stdout",
     "output_type": "stream",
     "text": [
      "577 days, 16:32:17.882465\n"
     ]
    }
   ],
   "source": [
    "#导入整个标准库：datetime，并取了别名dt\n",
    "import datetime as dt\n",
    "#导入单个模块的写法：from library import module\n",
    "\n",
    "\n",
    "now = dt.datetime.now()\n",
    "independence_day = dt.datetime(2023, 1, 1)\n",
    "\n",
    "time_difference = now - independence_day\n",
    "\n",
    "\n",
    "print(time_difference)\n"
   ]
  },
  {
   "cell_type": "markdown",
   "metadata": {},
   "source": [
    "### 面向对象编程（OOP）\n",
    "Python 支持面向对象的编程风格，允许开发者通过类和对象来组织代码。\n",
    "简单来说，就是定义了一个类型，该类型包含一些成员、函数。根据类型创建的变量叫做类。\n",
    "\n",
    "- 特别之处：Python 的类定义相比其他语言（如 Java 或 C++）更为简洁，不需要复杂的语法结构，使得代码更容易编写和理解。"
   ]
  },
  {
   "cell_type": "code",
   "execution_count": 2,
   "metadata": {},
   "outputs": [
    {
     "name": "stdout",
     "output_type": "stream",
     "text": [
      "2024 Tesla Model S\n"
     ]
    }
   ],
   "source": [
    "#创建了类“Car”\n",
    "class Car:\n",
    "    #“self”是一个指针，指向自己（当前对象）\n",
    "    #该类具有成员brand、model、year\n",
    "    #以下函数是类创建新的对象时自动调用的初始化函数，需要传入对应的参数\n",
    "    def __init__(self, brand, model, year):\n",
    "        self.brand = brand\n",
    "        self.model = model\n",
    "        self.year = year\n",
    "\n",
    "    #定义了一个函数，用于打印当前对象的全部信息\n",
    "    def display_info(self):\n",
    "        return f\"{self.year} {self.brand} {self.model}\"\n",
    "\n",
    "# 创建 Car 类的实例，该对象名为my_car\n",
    "my_car = Car(\"Tesla\", \"Model S\", 2024)\n",
    "\n",
    "# 调用类函数常常使用“.”\n",
    "print(my_car.display_info())"
   ]
  },
  {
   "cell_type": "markdown",
   "metadata": {},
   "source": [
    "### 装饰器\n",
    "\n",
    "装饰器是Python的一个强大功能，它允许用户在不修改函数代码的情况下增加函数功能。\n",
    "- 装饰器本质上是一个函数，它接受一个函数作为参数并返回一个新的函数。它在定义函数的时候提供了一个灵活的方式来“包装”函数。"
   ]
  },
  {
   "cell_type": "code",
   "execution_count": 3,
   "metadata": {},
   "outputs": [
    {
     "name": "stdout",
     "output_type": "stream",
     "text": [
      "this is result with decorator:\n",
      "13\n",
      "the normal one:\n",
      "12\n"
     ]
    }
   ],
   "source": [
    "#定义了装饰器函数“debug”\n",
    "def debug(func):\n",
    "    #内部新定义的函数，输入为系统传入的参数数量args与每个参数kwargs\n",
    "    def wrapper(*args, **kwargs):\n",
    "        #装饰效果：打印语句并让原函数计算结果加1\n",
    "        print(\"this is result with decorator:\")\n",
    "        result = func(*args, **kwargs) + 1\n",
    "        return result\n",
    "    #让装饰器函数调用wrapper函数\n",
    "    return wrapper\n",
    "\n",
    "#装饰器的使用方法，可以对一个函数使用多个装饰器\n",
    "@debug\n",
    "def add(x, y):\n",
    "    return x + y\n",
    "\n",
    "def add_normal(x,y):\n",
    "    print(\"the normal one:\")\n",
    "    return x + y\n",
    "\n",
    "\n",
    "print(add(5, 7))\n",
    "print(add_normal(5,7))"
   ]
  }
 ],
 "metadata": {
  "kernelspec": {
   "display_name": ".venv",
   "language": "python",
   "name": "python3"
  },
  "language_info": {
   "codemirror_mode": {
    "name": "ipython",
    "version": 3
   },
   "file_extension": ".py",
   "mimetype": "text/x-python",
   "name": "python",
   "nbconvert_exporter": "python",
   "pygments_lexer": "ipython3",
   "version": "3.10.12"
  }
 },
 "nbformat": 4,
 "nbformat_minor": 2
}
