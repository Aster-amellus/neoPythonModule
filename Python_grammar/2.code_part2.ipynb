{
 "cells": [
  {
   "cell_type": "markdown",
   "metadata": {},
   "source": [
    "### 函数\n",
    "很多时候，我们需要一系列指令在程序多个地方使用，为了方便，通常将这一些指令“打包”做成函数。\n",
    "与数学中而函数一样，分为自变量（参数）与因变量（函数结果）\n",
    "\n",
    "- 特别之处： Python支持高阶函数，即可以接受其他函数作为参数或者返回一个函数。\n",
    "\n",
    "#### 函数写法\n",
    "- 函数代码块以 def 关键词开头，后接函数标识符名称和圆括号()。\n",
    "- 任何传入参数和自变量必须放在圆括号中间。圆括号之间可以用于定义参数。\n",
    "- 函数内容以冒号起始，并且缩进。\n",
    "- “return 表达式” 结束函数（非必须），选择性地返回一个值给调用方。不带表达式的return相当于返回 None。\n",
    "```\n",
    "def function_name(element1,...):\n",
    "    expressions&sentences\n",
    "    return something\n",
    "```\n",
    "#### 调用函数\n",
    "使用函数名与恰当的参数即可\n",
    "\n",
    "#### 匿名函数lambda\n",
    "lambda的主体是一个表达式，而不是一个代码块。仅仅能在lambda表达式中封装有限的逻辑进去。\n",
    "\n",
    "`lambda [arg1 [,arg2,.....argn]]:expression\n",
    "`\n",
    "\n",
    "#### 变量作用域\n",
    "对于任何变量，都有一个生效的范围，例如全局创建的a，在程序结束运行前会一直存在，而函数中创建的b,在函数结束时就会销毁 "
   ]
  },
  {
   "cell_type": "code",
   "execution_count": null,
   "metadata": {},
   "outputs": [],
   "source": [
    "# 制作了函数\"greet()\",需要接收一个输入\"name\"\n",
    "def greet(name):\n",
    "    return \"Hello \" + name\n",
    "\n",
    "#函数中也可以再次调用函数，函数\"print_greet()\"不需要输入\n",
    "def print_greet():\n",
    "    print(greet(\"HDU\\n\"))\n",
    "\n",
    "#执行print_greet函数\n",
    "print_greet()\n",
    "\n",
    "\n",
    "# lambda函数举例，在以下例子中，函数\"make_incrementor()\"的输入为\"n\"\n",
    "def make_incrementor(n):\n",
    "    return lambda x: x + n\n",
    "# 下面这行将\"n\"绑定为2，但仍然缺少lambda语句中定义的未知数x\n",
    "f = make_incrementor(2)\n",
    "\n",
    "#该调用向f传递了2作为\"x\"\n",
    "print(f(42))\n",
    "\n",
    "#也可以不借助f,直接调用原函数,这时需要分步传入n与x\n",
    "make_incrementor(2)(43)"
   ]
  },
  {
   "cell_type": "markdown",
   "metadata": {},
   "source": [
    "### 标准库\n",
    "Python 的标准库提供了大量预构建的模块和功能，支持从文件操作到网络通信等多种任务。\n",
    "\n",
    "- 特别之处：Python 的标准库非常全面，几乎涵盖所有常见的编程任务，并且其标准库的接口设计非常直观。\n",
    "\n",
    "#### 创建模块\n",
    "可以自己写一个`name.py`的文件，在合适的文件路径下，这个“name”便等同于标准库的名字，可以借助`import`导入自己定义的函数"
   ]
  },
  {
   "cell_type": "code",
   "execution_count": null,
   "metadata": {},
   "outputs": [],
   "source": [
    "#导入整个标准库：datetime，并取了别名dt\n",
    "import datetime as dt\n",
    "#导入单个模块的写法：from library import module\n",
    "\n",
    "\n",
    "now = dt.datetime.now()\n",
    "independence_day = dt.datetime(2023, 1, 1)\n",
    "\n",
    "time_difference = now - independence_day\n",
    "\n",
    "\n",
    "print(time_difference)\n"
   ]
  },
  {
   "cell_type": "markdown",
   "metadata": {},
   "source": [
    "### 文件处理\n",
    "本章节细节较多、函数较多，本文只做简单介绍\n",
    "\n",
    "#### 文件的打开与关闭\n",
    "1. `object = open(file_name [, access_mode][, buffering])`：打开了文件`file_name`，选择了打开模式（例如读、写）`access_mode`（可选），是否设置缓冲区`buffering`（可选）。该文件的调用接口被设置为“object”\n",
    "2. `object.close()`：关闭“object”指向的文件\n",
    "\n",
    "#### 读写\n",
    "1. `object.write(string)`:朝文件末尾添加字符串“string”，该函数不自带换行符\n",
    "2. `object.read([count])`:从文件开头读取“count”个字节（可选）的数据\n",
    "\n",
    "#### 当前字节的定位\n",
    "在我写入或者读取一定字节和后，文件中的指针会移动\n",
    "1. `object.tell()`:指明当前进度\n",
    "2. `object.seek(offset [,from])`:从“from”处（可选的，012分别表示开头当前结尾），接着偏移“offset”字节，将指针指向这个新位置\n",
    "\n",
    "- 特别之处：Python的文件处理可以直接处理二进制文件"
   ]
  },
  {
   "cell_type": "markdown",
   "metadata": {},
   "source": [
    "### 异常处理\n",
    "异常是程序运行中出现的影响代码执行的时间，在python中，异常是一个对象(所以可以自己定义)\n",
    "\n",
    "遇到异常时，程序通常经过“捕捉，处理，继续”三个阶段的操作，这也是一种控制流（所以也可以嵌套）"
   ]
  },
  {
   "cell_type": "code",
   "execution_count": null,
   "metadata": {},
   "outputs": [],
   "source": [
    "try:    #程序首先“尝试“以下代码，并试图在这部分代码中捕捉错误\n",
    "    fh = open(\"testfile\", \"r\")\n",
    "    fh.write(\"这是一个测试文件，用于测试异常!!\")\n",
    "except IOError: #如果出现“意外”，并且该异常类型与所检查的相同（本例中为IOError，则执行“except”下的语句\n",
    "    print(\"error!\")  #如果异常类型与我们试图检查的不符，则跳出语句出现报错\n",
    "else:   #如果没有出现异常，则执行else中的语句\n",
    "    print(\"success\")\n",
    "    fh.close()\n",
    "\n",
    "try:\n",
    "    fh = open(\"testfile\", \"w\")\n",
    "    fh.write(\"这是一个测试文件，用于测试异常!!\")\n",
    "finally:    #无论是否出现异常，finally所包含的语句都会在最后被执行\n",
    "    print(\"actually no error!\")\n",
    "    \n",
    "try:\n",
    "    a=5\n",
    "    if a>1:\n",
    "        raise Exception  #使用raise可以主动弹出异常\n",
    "    else:\n",
    "        print(\"safe\")\n",
    "except Exception:\n",
    "    print(\"oops\")"
   ]
  },
  {
   "cell_type": "markdown",
   "metadata": {},
   "source": [
    "### 装饰器\n",
    "\n",
    "装饰器是Python的一个强大功能，它允许用户在不修改函数代码的情况下增加函数功能。\n",
    "- 装饰器本质上是一个函数，它接受一个函数作为参数并返回一个新的函数。它在定义函数的时候提供了一个灵活的方式来“包装”函数。"
   ]
  },
  {
   "cell_type": "code",
   "execution_count": null,
   "metadata": {},
   "outputs": [],
   "source": [
    "#定义了装饰器函数“debug”\n",
    "def debug(func):\n",
    "    #内部新定义的函数，输入为系统传入的参数数量args与每个参数kwargs\n",
    "    def wrapper(*args, **kwargs):\n",
    "        #装饰效果：打印语句并让原函数计算结果加1\n",
    "        print(\"this is result with decorator:\")\n",
    "        result = func(*args, **kwargs) + 1\n",
    "        return result\n",
    "    #让装饰器函数调用wrapper函数\n",
    "    return wrapper\n",
    "\n",
    "#装饰器的使用方法，可以对一个函数使用多个装饰器\n",
    "@debug\n",
    "def add(x, y):\n",
    "    return x + y\n",
    "\n",
    "def add_normal(x,y):\n",
    "    print(\"the normal one:\")\n",
    "    return x + y\n",
    "\n",
    "\n",
    "print(add(5, 7))\n",
    "print(add_normal(5,7))"
   ]
  }
 ],
 "metadata": {
  "kernelspec": {
   "display_name": ".venv",
   "language": "python",
   "name": "python3"
  },
  "language_info": {
   "codemirror_mode": {
    "name": "ipython",
    "version": 3
   },
   "file_extension": ".py",
   "mimetype": "text/x-python",
   "name": "python",
   "nbconvert_exporter": "python",
   "pygments_lexer": "ipython3",
   "version": "3.10.12"
  }
 },
 "nbformat": 4,
 "nbformat_minor": 2
}
