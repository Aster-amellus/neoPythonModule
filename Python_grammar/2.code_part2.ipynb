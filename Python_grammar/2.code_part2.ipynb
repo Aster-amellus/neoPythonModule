{
 "cells": [
  {
   "cell_type": "markdown",
   "metadata": {},
   "source": [
    "### 标准库\n",
    "Python 的标准库提供了大量预构建的模块和功能，支持从文件操作到网络通信等多种任务。\n",
    "\n",
    "- 特别之处：Python 的标准库非常全面，几乎涵盖所有常见的编程任务，并且其标准库的接口设计非常直观。\n"
   ]
  },
  {
   "cell_type": "code",
   "execution_count": null,
   "metadata": {},
   "outputs": [],
   "source": [
    "import datetime\n",
    "\n",
    "now = datetime.datetime.now()\n",
    "independence_day = datetime.datetime(2023, 1, 1)\n",
    "\n",
    "time_difference = now - independence_day\n",
    "\n",
    "\n",
    "print(time_difference)\n"
   ]
  },
  {
   "cell_type": "markdown",
   "metadata": {},
   "source": [
    "### 面向对象编程（OOP）\n",
    "Python 支持面向对象的编程风格，允许开发者通过类和对象来组织代码。\n",
    "\n",
    "- 特别之处：Python 的类定义相比其他语言（如 Java 或 C++）更为简洁，不需要复杂的语法结构，使得代码更容易编写和理解。"
   ]
  },
  {
   "cell_type": "code",
   "execution_count": null,
   "metadata": {},
   "outputs": [],
   "source": [
    "class Car:\n",
    "    def __init__(self, brand, model, year):\n",
    "        self.brand = brand\n",
    "        self.model = model\n",
    "        self.year = year\n",
    "\n",
    "    def display_info(self):\n",
    "        return f\"{self.year} {self.brand} {self.model}\"\n",
    "\n",
    "# 创建 Car 类的实例\n",
    "my_car = Car(\"Tesla\", \"Model S\", 2024)\n",
    "\n",
    "# 调用函数\n",
    "print(my_car.display_info())"
   ]
  }
 ],
 "metadata": {
  "kernelspec": {
   "display_name": ".venv",
   "language": "python",
   "name": "python3"
  },
  "language_info": {
   "name": "python",
   "version": "3.10.12"
  }
 },
 "nbformat": 4,
 "nbformat_minor": 2
}
