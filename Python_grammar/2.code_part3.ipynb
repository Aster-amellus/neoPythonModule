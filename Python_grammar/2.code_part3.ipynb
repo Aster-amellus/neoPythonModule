{
 "cells": [
  {
   "cell_type": "markdown",
   "metadata": {},
   "source": [
    "### 面向对象编程（OOP）（整个ipynb都在讲类）\n",
    "Python 支持面向对象的编程风格，允许开发者通过类和对象来组织代码。\n",
    "简单来说，就是定义了一个类型，该类型包含一些成员、函数。根据类型创建的变量叫做类。\n",
    "\n",
    "- 特别之处：Python 的类定义相比其他语言（如 Java 或 C++）更为简洁，不需要复杂的语法结构，使得代码更容易编写和理解。"
   ]
  },
  {
   "cell_type": "code",
   "execution_count": null,
   "metadata": {},
   "outputs": [],
   "source": [
    "#创建了类“Car”\n",
    "class Car:\n",
    "    #“self”是一个指针，指向自己（当前对象）\n",
    "    #该类具有成员brand、model、year\n",
    "    #以下函数是类创建新的对象时自动调用的初始化函数，需要传入对应的参数\n",
    "    def __init__(self, brand, model, year):\n",
    "        self.brand = brand\n",
    "        self.model = model\n",
    "        self.year = year\n",
    "\n",
    "    #定义了一个函数，用于打印当前对象的全部信息\n",
    "    def display_info(self):\n",
    "        return f\"{self.year} {self.brand} {self.model}\"\n",
    "\n",
    "# 创建 Car 类的实例，该对象名为my_car\n",
    "my_car = Car(\"Tesla\", \"Model S\", 2024)\n",
    "\n",
    "# 调用类函数常常使用“.”\n",
    "print(my_car.display_info())"
   ]
  },
  {
   "cell_type": "markdown",
   "metadata": {},
   "source": [
    "### 类的继承\n",
    "Python支持类的继承，允许一个类继承另一个类的方法和属性。\n",
    "多重继承允许一个类继承多个父类。"
   ]
  },
  {
   "cell_type": "code",
   "execution_count": null,
   "metadata": {},
   "outputs": [],
   "source": [
    "class Animal:   #本例中承担“基类”的角色\n",
    "    def speak(self):\n",
    "        print(\"Animal speaks\")\n",
    "\n",
    "class Mammal(Animal):   #继承自Animal\n",
    "    def walk(self): \n",
    "        print(\"Mammal walks\")\n",
    "\n",
    "class Cute:     #本例中承担“基类2”的角色\n",
    "    def kiss(self):\n",
    "        print(\"kiss you\")\n",
    "        \n",
    "class Dog(Mammal,Cute):     #同时继承了Mammal和Cute,多重继承\n",
    "    def wag_tail(self):\n",
    "        print(\"Dog wags tail\")\n",
    "\n",
    "doggie=Dog()\n",
    "doggie.speak()\n",
    "doggie.wag_tail()\n",
    "doggie.walk()\n",
    "doggie.kiss()"
   ]
  },
  {
   "cell_type": "markdown",
   "metadata": {},
   "source": [
    "### 特殊类\n",
    "1. 抽象基类（Abstract Base Classes, ABCs）：用于创建其他类必须继承的抽象类，主要是为了定义通用的API。抽象方法定义在抽象基类中，使用@abstractmethod装饰器标记。子类必须实现抽象方法才能被实例化。\n",
    "2. 枚举类：用于定义常量集合的类。使用Enum类来创建它们。"
   ]
  },
  {
   "cell_type": "code",
   "execution_count": null,
   "metadata": {},
   "outputs": [],
   "source": [
    "#抽象类\n",
    "from abc import ABC, abstractmethod\n",
    "\n",
    "class Shape(ABC):   #抽象类Shape继承自模块abc里面的抽象基类ABC\n",
    "    @abstractmethod     #表明函数“area”是抽象方法\n",
    "    def area(self):\n",
    "        pass    #无实际意义，占位\n",
    "\n",
    "class Circle(Shape):\n",
    "    def __init__(self, radius):\n",
    "        self.radius = radius\n",
    "\n",
    "    def area(self):     #实现了area函数，允许被实例化\n",
    "        return 3.14 * self.radius ** 2\n",
    "\n",
    "# 使用 Circle 类\n",
    "circle = Circle(5)\n",
    "circle.area()\n"
   ]
  },
  {
   "cell_type": "code",
   "execution_count": null,
   "metadata": {},
   "outputs": [],
   "source": [
    "#枚举类\n",
    "from enum import Enum\n",
    "\n",
    "class Color(Enum):  #枚举类Color继承自模块enum中的Enum类\n",
    "    RED = 1\n",
    "    GREEN = 2\n",
    "    BLUE = 3\n",
    "\n",
    "#枚举的访问方式\n",
    "print(Color.RED)  \n",
    "print(Color.RED.name) \n",
    "print(Color.RED.value)\n"
   ]
  },
  {
   "cell_type": "markdown",
   "metadata": {},
   "source": [
    "### 类的方法\n",
    "1. 实例方法：类的普通方法，它们的第一个参数总是self，表示类实例本身。实例方法可以访问和修改对象的状态。（见例子：Car）\n",
    "2. 特殊方法：由双下划线包围的方法（如 __init__、__str__ 等），用于提供对类的内建操作的支持，比如迭代、运算符重载、访问属性等。\n",
    "3. 类方法：用`@classmethod`装饰器标记的，它们的第一个参数是cls，代表类本身。类方法可以访问和修改类状态。\n",
    "4. 静态方法：用`@staticmethod`装饰器标记的，不接受self或cls参数。这种方法既不访问实例状态也不访问类状态，它们是一种与类紧密联系的普通函数。\n",
    "5. 抽象方法：定义在抽象基类中，使用`@abstractmethod`装饰器标记。子类必须实现抽象方法才能被实例化。（见例子：Circle）"
   ]
  },
  {
   "cell_type": "code",
   "execution_count": null,
   "metadata": {},
   "outputs": [],
   "source": [
    "#特殊方法\n",
    "class Book:\n",
    "    def __init__(self, title):\n",
    "        self.title = title\n",
    "\n",
    "    def __str__(self):  #将这个\n",
    "        return f\"Book: {self.title}\"\n",
    "\n",
    "name=Book(\"Dream\")\n",
    "print(name)"
   ]
  },
  {
   "cell_type": "code",
   "execution_count": null,
   "metadata": {},
   "outputs": [],
   "source": [
    "#类方法\n",
    "class Employee:\n",
    "    company = \"XYZ Corp\"\n",
    "\n",
    "    @classmethod    #表明函数“display_company“是类方法，需要传入类本身\n",
    "    def display_company(cls):\n",
    "        print(f\"Company: {cls.company}\")\n",
    "\n",
    "Employee.display_company()"
   ]
  },
  {
   "cell_type": "code",
   "execution_count": null,
   "metadata": {},
   "outputs": [],
   "source": [
    "#静态方法\n",
    "class Math:\n",
    "    @staticmethod   #表明函数“add”是静态方法，不接受“self”和“cls”，基本上就是普通函数\n",
    "    def add(x, y):\n",
    "        return x + y\n",
    "    \n",
    "Math.add(3,5)"
   ]
  }
 ],
 "metadata": {
  "kernelspec": {
   "display_name": ".venv",
   "language": "python",
   "name": "python3"
  },
  "language_info": {
   "codemirror_mode": {
    "name": "ipython",
    "version": 3
   },
   "file_extension": ".py",
   "mimetype": "text/x-python",
   "name": "python",
   "nbconvert_exporter": "python",
   "pygments_lexer": "ipython3",
   "version": "3.10.12"
  }
 },
 "nbformat": 4,
 "nbformat_minor": 2
}
