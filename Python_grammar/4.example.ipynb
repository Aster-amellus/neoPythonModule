{
 "cells": [
  {
   "cell_type": "markdown",
   "metadata": {},
   "source": [
    "## 以下是例题(完善中)\n",
    "- 完成填空，使得程序输出等于注释"
   ]
  },
  {
   "cell_type": "code",
   "execution_count": null,
   "metadata": {},
   "outputs": [],
   "source": [
    "def apply_operation(x, operation):\n",
    "    def inner(y):\n",
    "        return operation(x, y)\n",
    "    return inner\n",
    "\n",
    "#hint：使用lambda表达式完成operation\n",
    "add_five = apply_operation(5, _________)\n",
    "print(add_five(_________))\n",
    "\n",
    "# output：8"
   ]
  },
  {
   "cell_type": "code",
   "execution_count": null,
   "metadata": {},
   "outputs": [],
   "source": [
    "class Person:\n",
    "    def __init__(self, name, age):\n",
    "        self.name = name\n",
    "        self.age = age\n",
    "    \n",
    "    def birthday(self):\n",
    "        self.age += 1\n",
    "        print(f\"Happy {self.age} birthday, {self.name}!\")\n",
    "\n",
    "class Mylove(Person):\n",
    "    def __init__(self, person, gender):\n",
    "        if isinstance(person,Person):\n",
    "            _____.__init__(person.name,person.age)\n",
    "            self.gender=gender\n",
    "        else:\n",
    "            print(\"found the one first\")\n",
    "            return\n",
    "        \n",
    "    def _____(self):\n",
    "        self.age += 1\n",
    "        print(f\"Happy {self.age} birthday, mylove \\(* ~ *)/\")\n",
    "        \n",
    "ta=_____(\"Someone\",20)\n",
    "object=_____(ta,\"male\")\n",
    "object._____\n",
    "\n",
    "#output: Happy 21 birthday, mylove \\(* ~ *)/"
   ]
  }
 ],
 "metadata": {
  "kernelspec": {
   "display_name": ".venv",
   "language": "python",
   "name": "python3"
  },
  "language_info": {
   "codemirror_mode": {
    "name": "ipython",
    "version": 3
   },
   "file_extension": ".py",
   "mimetype": "text/x-python",
   "name": "python",
   "nbconvert_exporter": "python",
   "pygments_lexer": "ipython3",
   "version": "3.10.12"
  }
 },
 "nbformat": 4,
 "nbformat_minor": 2
}
